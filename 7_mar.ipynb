{
 "cells": [
  {
   "cell_type": "raw",
   "id": "8316bc28-cdfb-4b07-8739-063dd55ef34f",
   "metadata": {},
   "source": [
    "Ans1: The three measures of central tendency are:\n",
    "i. Mean: It is the average of the population or the sample data.\n",
    "ii. Median: It is the middle value of the population or the sample data when the data is in ascending or descending order.\n",
    "iii. Mode: It is the most recurred value in the population or sample data."
   ]
  },
  {
   "cell_type": "raw",
   "id": "899e7d15-b434-47e4-8152-5a28f6bcbcf3",
   "metadata": {},
   "source": [
    "Ans2: The difference between the mean, median, mode are:\n",
    "i. Mean defines is the average value from the whole data while mode denotes the value which is most recurred in dataset and make significant effect on the dispersion of data while median is the middle value which divide the dataset into two parts.\n",
    "\n",
    "The mean is used to define the central tendency when there is no outliners present because the mean is very sensitive towards outliners.\n",
    "The median is used when the values are arranged in ascending or descending order as it is less sensitive to the outliners.\n",
    "The mode is used when the data is categorical."
   ]
  },
  {
   "cell_type": "code",
   "execution_count": 10,
   "id": "19bd33a0-505f-4803-adf5-d195895ff981",
   "metadata": {},
   "outputs": [
    {
     "name": "stdout",
     "output_type": "stream",
     "text": [
      "177.01875\n",
      "177.0\n"
     ]
    },
    {
     "name": "stderr",
     "output_type": "stream",
     "text": [
      "/tmp/ipykernel_99/1495334928.py:6: FutureWarning: Unlike other reduction functions (e.g. `skew`, `kurtosis`), the default behavior of `mode` typically preserves the axis it acts along. In SciPy 1.11.0, this behavior will change: the default value of `keepdims` will become False, the `axis` over which the statistic is taken will be eliminated, and the value None will no longer be accepted. Set `keepdims` to True or False to avoid this warning.\n",
      "  stats.mode(ct)\n"
     ]
    },
    {
     "data": {
      "text/plain": [
       "ModeResult(mode=array([177.]), count=array([3]))"
      ]
     },
     "execution_count": 10,
     "metadata": {},
     "output_type": "execute_result"
    }
   ],
   "source": [
    "#Ans3\n",
    "import numpy as np\n",
    "from scipy import stats\n",
    "ct= [178,177,176,177,178.2,178,175,179,180,175,178.9,176.2,177,172.5,178,176.5]\n",
    "print(np.mean(ct))\n",
    "print(np.median(ct))\n",
    "stats.mode(ct)"
   ]
  },
  {
   "cell_type": "code",
   "execution_count": 2,
   "id": "fc455dd4-3fe5-4d85-8a70-878ff3b8f7fb",
   "metadata": {},
   "outputs": [
    {
     "data": {
      "text/plain": [
       "1.7885814036548633"
      ]
     },
     "execution_count": 2,
     "metadata": {},
     "output_type": "execute_result"
    }
   ],
   "source": [
    "#Ans4\n",
    "dta=[178,177,176,177,178.2,178,175,179,180,175,178.9,176.2,177,172.5,178,176.5]\n",
    "np.std(dta)"
   ]
  },
  {
   "cell_type": "raw",
   "id": "2257e3d3-4e10-4d25-8dce-9e2e020527d5",
   "metadata": {},
   "source": [
    "Ans5: Range is the difference between the largest and smalled value in the dataset. It represents that the how long is the spread of the data.\n",
    "\n",
    "Variance is the average of squared difference between value and mean. It represents that data is how far to the mean.\n",
    "\n",
    "standard deviation is the sqrt of the variance and it represents data is how much near to the mean."
   ]
  },
  {
   "cell_type": "raw",
   "id": "4c8d8e37-d8c3-45d3-ab87-ba7704d6bef2",
   "metadata": {},
   "source": [
    "Ans6: Venn diagram is the diagram which represents the logical relation of two or more datasets that how one dataset is superset or subset of other dataset.\n",
    "\n",
    "In venn diagram the two circles are used and are overlapped on each other, the overlapped portion of two datasets represents the data which is subset of both dataset.\n"
   ]
  },
  {
   "cell_type": "code",
   "execution_count": 4,
   "id": "3689b129-1186-468b-b387-739ee4606eb8",
   "metadata": {},
   "outputs": [
    {
     "name": "stdout",
     "output_type": "stream",
     "text": [
      "[2 6]\n",
      "[ 0  2  3  4  5  6  7  8 10]\n"
     ]
    }
   ],
   "source": [
    "#Ans7:\n",
    "A=[2,3,4,5,6,7]\n",
    "B=[0,2,6,8,10]\n",
    "print(np.intersect1d(A,B))\n",
    "print(np.union1d(A,B))"
   ]
  },
  {
   "cell_type": "raw",
   "id": "11eb6590-92a5-48fe-87fe-9f31585f46ec",
   "metadata": {},
   "source": [
    "Ans8: Skewness the measure of distibution of data in the form of asymmetry the larger is the skewness less is the data distibuted in the cenral position. \n",
    "If the data is right skewed then the dataset will have a tail towards the right position that means that the data is distributed in the left side more.\n",
    "If the data is left skewed thent eh dataset will have a tail towards tha left position that means that the data is distributed in the right side more."
   ]
  },
  {
   "cell_type": "raw",
   "id": "137fa59b-af1a-4ceb-a018-a5b913bb7208",
   "metadata": {},
   "source": [
    "Ans9: In right skewed data the median is in the left of the mean."
   ]
  },
  {
   "cell_type": "raw",
   "id": "b93e54e3-89f4-4469-8afc-45cfff5f6838",
   "metadata": {},
   "source": [
    "Ans10: The difference between covariance and correlation are:\n",
    "\n",
    "i. covariance doesn't have any fixed value or magnitude while the correlation has range between -1 to +1.\n",
    "ii. covariance doesn't give how strong is the dependency of the variables while by using correaltion we can predit that how strong the variables are dependent on each other.\n",
    "\n",
    "These two measures are used in statistica analysis by informing how the two variables are directly or inversly dependent on each other. If the value of covariance or correlation is positive then the variables are directly dependent and when the same is negative then the varibles are inversly dependent."
   ]
  },
  {
   "cell_type": "raw",
   "id": "7c3f7336-ea01-4057-943b-68b6a7bf1741",
   "metadata": {},
   "source": [
    "Ans11: The formula for calculatin sample mean is:\n",
    "\n",
    "        _\n",
    "        x=sum range from 0 to i (Xi/n)\n",
    "        \n",
    "        where n is th count of number of data.\n",
    "        Xi is instance of dataset.\n",
    "        \n",
    "for example:\n",
    "                let be a dataset A=[2,4,5,6,8]\n",
    "                \n",
    "                sample mean=(2+4+5+6+8)/5\n",
    "                sample mean=5"
   ]
  },
  {
   "cell_type": "raw",
   "id": "af5ab544-9a09-4ff6-9301-408a4d9de756",
   "metadata": {},
   "source": [
    "Ans12: For a Normal distribution the All three components mean, median, mode are same."
   ]
  },
  {
   "cell_type": "raw",
   "id": "a8bb3aa5-fd5b-41ca-8cd4-4bbea8e03cf7",
   "metadata": {},
   "source": [
    "Ans13: The covariance can have the unlimited value and doesn't provide the degree of relation betweent the variable while the correlation only have the certain -1 - +1 range of value and it proide the degree in the form of how strong the two variable is related."
   ]
  },
  {
   "cell_type": "raw",
   "id": "0bd28d2e-68da-4423-91dd-8f1135e94215",
   "metadata": {},
   "source": [
    "Ans14: The outliners are the unwanted data which make the huge impact on some central tendencies and dispersions. \n",
    "In central tendencies the outliners have huge impace on the mean as the mean is diverted towards the the outliners because it is the average of all the data.\n",
    "In the dispersions also the outliners impact on the range, variance, standard deviations as the outliners increase the distance between the datapoints hence the variance is also affected as it increased by the outliners along with standard deviantions.\n",
    "for example take the dataset 2,3,4,5,56\n",
    "Here 56 is an outliner and the mean became 14 when we incluede this outliner and without outliner the mean is 3.4 this is a huge difference.\n",
    "The variance is also increased as 552.2 from 1.66."
   ]
  }
 ],
 "metadata": {
  "kernelspec": {
   "display_name": "Python 3 (ipykernel)",
   "language": "python",
   "name": "python3"
  },
  "language_info": {
   "codemirror_mode": {
    "name": "ipython",
    "version": 3
   },
   "file_extension": ".py",
   "mimetype": "text/x-python",
   "name": "python",
   "nbconvert_exporter": "python",
   "pygments_lexer": "ipython3",
   "version": "3.10.8"
  }
 },
 "nbformat": 4,
 "nbformat_minor": 5
}
